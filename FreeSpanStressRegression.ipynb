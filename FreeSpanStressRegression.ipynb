{
 "cells": [
  {
   "cell_type": "markdown",
   "metadata": {},
   "source": [
    "# Libraries"
   ]
  },
  {
   "cell_type": "code",
   "execution_count": 1,
   "metadata": {},
   "outputs": [],
   "source": [
    "import numpy as np\n",
    "import pandas as pd\n",
    "import matplotlib.pyplot as plt\n",
    "from sklearn.linear_model import LinearRegression\n",
    "from sklearn.neural_network import MLPRegressor\n",
    "from sklearn.model_selection import train_test_split\n",
    "\n",
    "%matplotlib inline\n"
   ]
  },
  {
   "cell_type": "code",
   "execution_count": 2,
   "metadata": {},
   "outputs": [],
   "source": [
    "train = pd.read_csv('E:/Kaggle.Challenges/FreeSpan-StressResults/train-stress.csv')\n",
    "test = pd.read_csv('E:/Kaggle.Challenges/FreeSpan-StressResults/test-stress.csv')"
   ]
  },
  {
   "cell_type": "code",
   "execution_count": 3,
   "metadata": {},
   "outputs": [
    {
     "data": {
      "text/html": [
       "<div>\n",
       "<style scoped>\n",
       "    .dataframe tbody tr th:only-of-type {\n",
       "        vertical-align: middle;\n",
       "    }\n",
       "\n",
       "    .dataframe tbody tr th {\n",
       "        vertical-align: top;\n",
       "    }\n",
       "\n",
       "    .dataframe thead th {\n",
       "        text-align: right;\n",
       "    }\n",
       "</style>\n",
       "<table border=\"1\" class=\"dataframe\">\n",
       "  <thead>\n",
       "    <tr style=\"text-align: right;\">\n",
       "      <th></th>\n",
       "      <th>Diameter</th>\n",
       "      <th>thickness</th>\n",
       "      <th>coatingThickness</th>\n",
       "      <th>pressure</th>\n",
       "      <th>yieldStress</th>\n",
       "      <th>youngsModulus</th>\n",
       "      <th>Wsubmerged</th>\n",
       "      <th>MassDensity</th>\n",
       "      <th>Stress</th>\n",
       "    </tr>\n",
       "  </thead>\n",
       "  <tbody>\n",
       "    <tr>\n",
       "      <th>0</th>\n",
       "      <td>0.86072</td>\n",
       "      <td>0.021383</td>\n",
       "      <td>0.043251</td>\n",
       "      <td>937278</td>\n",
       "      <td>478080000</td>\n",
       "      <td>2.280000e+11</td>\n",
       "      <td>94.327867</td>\n",
       "      <td>7755.672133</td>\n",
       "      <td>48.414706</td>\n",
       "    </tr>\n",
       "    <tr>\n",
       "      <th>1</th>\n",
       "      <td>0.86072</td>\n",
       "      <td>0.021383</td>\n",
       "      <td>0.043251</td>\n",
       "      <td>936982</td>\n",
       "      <td>478080000</td>\n",
       "      <td>2.220000e+11</td>\n",
       "      <td>94.327867</td>\n",
       "      <td>7755.672133</td>\n",
       "      <td>48.414706</td>\n",
       "    </tr>\n",
       "    <tr>\n",
       "      <th>2</th>\n",
       "      <td>0.86072</td>\n",
       "      <td>0.021383</td>\n",
       "      <td>0.043251</td>\n",
       "      <td>936684</td>\n",
       "      <td>478080000</td>\n",
       "      <td>2.010000e+11</td>\n",
       "      <td>94.327867</td>\n",
       "      <td>7755.672133</td>\n",
       "      <td>48.414706</td>\n",
       "    </tr>\n",
       "    <tr>\n",
       "      <th>3</th>\n",
       "      <td>0.86072</td>\n",
       "      <td>0.021383</td>\n",
       "      <td>0.043251</td>\n",
       "      <td>936386</td>\n",
       "      <td>478080000</td>\n",
       "      <td>2.130000e+11</td>\n",
       "      <td>94.327867</td>\n",
       "      <td>7755.672133</td>\n",
       "      <td>48.414706</td>\n",
       "    </tr>\n",
       "    <tr>\n",
       "      <th>4</th>\n",
       "      <td>0.86072</td>\n",
       "      <td>0.021383</td>\n",
       "      <td>0.043251</td>\n",
       "      <td>936086</td>\n",
       "      <td>478080000</td>\n",
       "      <td>1.910000e+11</td>\n",
       "      <td>94.327867</td>\n",
       "      <td>7755.672133</td>\n",
       "      <td>48.414706</td>\n",
       "    </tr>\n",
       "  </tbody>\n",
       "</table>\n",
       "</div>"
      ],
      "text/plain": [
       "   Diameter  thickness  coatingThickness  pressure  yieldStress  \\\n",
       "0   0.86072   0.021383          0.043251    937278    478080000   \n",
       "1   0.86072   0.021383          0.043251    936982    478080000   \n",
       "2   0.86072   0.021383          0.043251    936684    478080000   \n",
       "3   0.86072   0.021383          0.043251    936386    478080000   \n",
       "4   0.86072   0.021383          0.043251    936086    478080000   \n",
       "\n",
       "   youngsModulus  Wsubmerged  MassDensity     Stress  \n",
       "0   2.280000e+11   94.327867  7755.672133  48.414706  \n",
       "1   2.220000e+11   94.327867  7755.672133  48.414706  \n",
       "2   2.010000e+11   94.327867  7755.672133  48.414706  \n",
       "3   2.130000e+11   94.327867  7755.672133  48.414706  \n",
       "4   1.910000e+11   94.327867  7755.672133  48.414706  "
      ]
     },
     "execution_count": 3,
     "metadata": {},
     "output_type": "execute_result"
    }
   ],
   "source": [
    "train.head()"
   ]
  },
  {
   "cell_type": "code",
   "execution_count": 4,
   "metadata": {},
   "outputs": [
    {
     "name": "stdout",
     "output_type": "stream",
     "text": [
      "['Diameter' 'thickness' 'coatingThickness' 'pressure' 'yieldStress'\n",
      " 'youngsModulus' 'Wsubmerged' 'MassDensity' 'Stress']\n"
     ]
    }
   ],
   "source": [
    "print(train.columns.values)"
   ]
  },
  {
   "cell_type": "code",
   "execution_count": 5,
   "metadata": {},
   "outputs": [
    {
     "name": "stdout",
     "output_type": "stream",
     "text": [
      "<class 'pandas.core.frame.DataFrame'>\n",
      "RangeIndex: 12500 entries, 0 to 12499\n",
      "Data columns (total 9 columns):\n",
      " #   Column            Non-Null Count  Dtype  \n",
      "---  ------            --------------  -----  \n",
      " 0   Diameter          12500 non-null  float64\n",
      " 1   thickness         12500 non-null  float64\n",
      " 2   coatingThickness  12500 non-null  float64\n",
      " 3   pressure          12500 non-null  int64  \n",
      " 4   yieldStress       12500 non-null  int64  \n",
      " 5   youngsModulus     12500 non-null  float64\n",
      " 6   Wsubmerged        12500 non-null  float64\n",
      " 7   MassDensity       12500 non-null  float64\n",
      " 8   Stress            12500 non-null  float64\n",
      "dtypes: float64(7), int64(2)\n",
      "memory usage: 879.0 KB\n",
      "<class 'pandas.core.frame.DataFrame'>\n",
      "RangeIndex: 3125 entries, 0 to 3124\n",
      "Data columns (total 9 columns):\n",
      " #   Column            Non-Null Count  Dtype  \n",
      "---  ------            --------------  -----  \n",
      " 0   Diameter          3125 non-null   float64\n",
      " 1   thickness         3125 non-null   float64\n",
      " 2   coatingThickness  3125 non-null   float64\n",
      " 3   pressure          3125 non-null   int64  \n",
      " 4   yieldStress       3125 non-null   int64  \n",
      " 5   youngsModulus     3125 non-null   float64\n",
      " 6   Wsubmerged        3125 non-null   float64\n",
      " 7   MassDensity       3125 non-null   float64\n",
      " 8   Stress            3125 non-null   float64\n",
      "dtypes: float64(7), int64(2)\n",
      "memory usage: 219.9 KB\n"
     ]
    }
   ],
   "source": [
    "train.info()\n",
    "test.info()"
   ]
  },
  {
   "cell_type": "code",
   "execution_count": 6,
   "metadata": {},
   "outputs": [
    {
     "data": {
      "text/plain": [
       "43.440021    495\n",
       "42.725536    495\n",
       "42.995972    495\n",
       "42.992633    494\n",
       "42.775617    480\n",
       "            ... \n",
       "48.337916      5\n",
       "46.738671      5\n",
       "39.456934      5\n",
       "48.731884      5\n",
       "39.119724      5\n",
       "Name: Stress, Length: 63, dtype: int64"
      ]
     },
     "execution_count": 6,
     "metadata": {},
     "output_type": "execute_result"
    }
   ],
   "source": [
    "train[\"Stress\"].value_counts()"
   ]
  },
  {
   "cell_type": "code",
   "execution_count": 7,
   "metadata": {},
   "outputs": [],
   "source": [
    "train = pd.get_dummies(train, columns=['Diameter','thickness','coatingThickness', 'pressure', 'yieldStress', 'youngsModulus', 'Wsubmerged', 'MassDensity'], \n",
    "                       drop_first=False)\n",
    "\n",
    "test = pd.get_dummies(test, columns=['Diameter','thickness','coatingThickness', 'pressure', 'yieldStress', 'youngsModulus', 'Wsubmerged', 'MassDensity'],\n",
    "                      drop_first=False)"
   ]
  },
  {
   "cell_type": "code",
   "execution_count": 8,
   "metadata": {},
   "outputs": [
    {
     "data": {
      "text/plain": [
       "((12500, 10117), (12500,))"
      ]
     },
     "execution_count": 8,
     "metadata": {},
     "output_type": "execute_result"
    }
   ],
   "source": [
    "X = train.drop('Stress', axis=1)\n",
    "\n",
    "y = train['Stress']\n",
    "\n",
    "X.shape,y.shape"
   ]
  },
  {
   "cell_type": "code",
   "execution_count": 9,
   "metadata": {},
   "outputs": [],
   "source": [
    "X_train, X_test, y_train, y_test = train_test_split(X, y, test_size = 0.2, random_state=1)"
   ]
  },
  {
   "cell_type": "code",
   "execution_count": 10,
   "metadata": {},
   "outputs": [
    {
     "name": "stdout",
     "output_type": "stream",
     "text": [
      "Train score:  0.9928463905320698\n",
      "Test score:  0.6592609769436089\n"
     ]
    }
   ],
   "source": [
    "clf = MLPRegressor(random_state=1, max_iter=500, activation='identity', ).fit(X_train, y_train)\n",
    "\n",
    "\n",
    "print('Train score: ', clf.score(X_train, y_train))\n",
    "print('Test score: ', clf.score(X_test, y_test))"
   ]
  },
  {
   "cell_type": "code",
   "execution_count": 11,
   "metadata": {},
   "outputs": [
    {
     "data": {
      "text/plain": [
       "array([42.42255219, 43.25022355])"
      ]
     },
     "execution_count": 11,
     "metadata": {},
     "output_type": "execute_result"
    }
   ],
   "source": [
    "clf.predict(X_test[:2])\n"
   ]
  },
  {
   "cell_type": "code",
   "execution_count": 12,
   "metadata": {},
   "outputs": [
    {
     "name": "stdout",
     "output_type": "stream",
     "text": [
      "coefficient of determination:  0.9928463905320698\n",
      "intercept:  [array([ 0.23017117,  0.17411217, -0.15925494,  0.19057135, -0.16225025,\n",
      "        0.16088154, -0.14944577, -0.1333086 ,  0.15408273,  0.1695197 ,\n",
      "       -0.1681746 ,  0.16641663,  0.17199397, -0.17128177, -0.16742332,\n",
      "       -0.17309837, -0.13206919,  0.17750854, -0.16587196,  0.15626472,\n",
      "        0.16553819,  0.16667789,  0.188275  ,  0.13831574, -0.18107536,\n",
      "        0.13626789,  0.16119611, -0.1832581 , -0.1411396 , -0.1380358 ,\n",
      "       -0.17275803, -0.16138828,  0.14803561, -0.16610146, -0.16115848,\n",
      "        0.17991733, -0.20464515,  0.12500347,  0.14298424, -0.15781451,\n",
      "        0.17393205, -0.1473875 , -0.18318348, -0.19289172,  0.17419783,\n",
      "       -0.17394169, -0.15845766,  0.14956183, -0.17820893,  0.15906884,\n",
      "        0.21177358, -0.19536093,  0.1969916 ,  0.14658305,  0.14952443,\n",
      "       -0.17588509,  0.14176077, -0.23152694, -0.13839646,  0.16802861,\n",
      "       -0.16368867,  0.16868567,  0.15407355,  0.15255075,  0.15764528,\n",
      "        0.16936841,  0.19093671,  0.17012424,  0.17471444, -0.16290691,\n",
      "        0.15858441, -0.1952024 , -0.15468049,  0.18260669, -0.19317744,\n",
      "        0.13121754,  0.18397416, -0.13390275,  0.16727217, -0.14541242,\n",
      "       -0.16372733,  0.18911705,  0.16338432,  0.17684478, -0.18836734,\n",
      "       -0.16685628,  0.17275808, -0.19282603,  0.22782452,  0.1951283 ,\n",
      "        0.16807124,  0.19479109, -0.1820588 , -0.17813985,  0.14107929,\n",
      "       -0.16696592,  0.17525858,  0.15588456,  0.17870008, -0.19616206]), array([0.31291633])]\n",
      "slope:  [array([[ 0.21766201,  0.16216882, -0.17759329, ...,  0.15785423,\n",
      "         0.18565269, -0.18339437],\n",
      "       [ 0.19247142,  0.14559132, -0.12698834, ...,  0.13352699,\n",
      "         0.19645678, -0.1521279 ],\n",
      "       [ 0.38381818,  0.25195298, -0.23283725, ...,  0.23438807,\n",
      "         0.36949237, -0.33225053],\n",
      "       ...,\n",
      "       [ 0.21876515,  0.16806035, -0.15572351, ...,  0.17463833,\n",
      "         0.21989071, -0.17075735],\n",
      "       [ 0.19255089,  0.15176838, -0.15313506, ...,  0.17111134,\n",
      "         0.19381436, -0.17384157],\n",
      "       [ 0.2259606 ,  0.17342465, -0.17500413, ...,  0.15164821,\n",
      "         0.22199012, -0.18595853]]), array([[ 0.2209312 ],\n",
      "       [ 0.42088172],\n",
      "       [-0.40785325],\n",
      "       [ 0.22248772],\n",
      "       [-0.41416349],\n",
      "       [ 0.33667016],\n",
      "       [-0.31187034],\n",
      "       [-0.36660714],\n",
      "       [ 0.42939646],\n",
      "       [ 0.36319392],\n",
      "       [-0.35246838],\n",
      "       [ 0.42999232],\n",
      "       [ 0.27380642],\n",
      "       [-0.30840053],\n",
      "       [-0.3430921 ],\n",
      "       [-0.33892886],\n",
      "       [-0.43582515],\n",
      "       [ 0.36106236],\n",
      "       [-0.32388633],\n",
      "       [ 0.27811078],\n",
      "       [ 0.3271555 ],\n",
      "       [ 0.2675579 ],\n",
      "       [ 0.23329959],\n",
      "       [ 0.44021842],\n",
      "       [-0.30484611],\n",
      "       [ 0.41966794],\n",
      "       [ 0.4346248 ],\n",
      "       [-0.33911478],\n",
      "       [-0.35995519],\n",
      "       [-0.38033173],\n",
      "       [-0.32262709],\n",
      "       [-0.27027594],\n",
      "       [ 0.3028563 ],\n",
      "       [-0.4418043 ],\n",
      "       [-0.27106922],\n",
      "       [ 0.24090459],\n",
      "       [-0.22418163],\n",
      "       [ 0.44404785],\n",
      "       [ 0.343747  ],\n",
      "       [-0.42580261],\n",
      "       [ 0.30844613],\n",
      "       [-0.29696327],\n",
      "       [-0.27183512],\n",
      "       [-0.25688976],\n",
      "       [ 0.38735149],\n",
      "       [-0.32143462],\n",
      "       [-0.27209271],\n",
      "       [ 0.32307353],\n",
      "       [-0.31922517],\n",
      "       [ 0.32659573],\n",
      "       [ 0.23424639],\n",
      "       [-0.22734004],\n",
      "       [ 0.2426408 ],\n",
      "       [ 0.42661725],\n",
      "       [ 0.29372216],\n",
      "       [-0.36016214],\n",
      "       [ 0.39691837],\n",
      "       [-0.21652072],\n",
      "       [-0.42660275],\n",
      "       [ 0.40478072],\n",
      "       [-0.32544738],\n",
      "       [ 0.34893222],\n",
      "       [ 0.32133264],\n",
      "       [ 0.34346906],\n",
      "       [ 0.4279073 ],\n",
      "       [ 0.36019881],\n",
      "       [ 0.28459592],\n",
      "       [ 0.29990931],\n",
      "       [ 0.34367582],\n",
      "       [-0.43849265],\n",
      "       [ 0.30782332],\n",
      "       [-0.22650551],\n",
      "       [-0.37350688],\n",
      "       [ 0.32389283],\n",
      "       [-0.25188379],\n",
      "       [ 0.44611827],\n",
      "       [ 0.2896822 ],\n",
      "       [-0.42254334],\n",
      "       [ 0.30791614],\n",
      "       [-0.44039613],\n",
      "       [-0.26624439],\n",
      "       [ 0.24267764],\n",
      "       [ 0.37310929],\n",
      "       [ 0.32102271],\n",
      "       [-0.23794232],\n",
      "       [-0.42959384],\n",
      "       [ 0.40570659],\n",
      "       [-0.25355334],\n",
      "       [ 0.22676492],\n",
      "       [ 0.2690881 ],\n",
      "       [ 0.44721918],\n",
      "       [ 0.27057905],\n",
      "       [-0.30988209],\n",
      "       [-0.36756687],\n",
      "       [ 0.42718674],\n",
      "       [-0.27283285],\n",
      "       [ 0.40312192],\n",
      "       [ 0.39956615],\n",
      "       [ 0.23332576],\n",
      "       [-0.26155698]])]\n"
     ]
    }
   ],
   "source": [
    "print('coefficient of determination: ', clf.score(X_train, y_train))\n",
    "print('intercept: ', clf.intercepts_)\n",
    "print('slope: ', clf.coefs_)"
   ]
  },
  {
   "cell_type": "code",
   "execution_count": null,
   "metadata": {},
   "outputs": [],
   "source": []
  }
 ],
 "metadata": {
  "kernelspec": {
   "display_name": "Python 3",
   "language": "python",
   "name": "python3"
  },
  "language_info": {
   "codemirror_mode": {
    "name": "ipython",
    "version": 3
   },
   "file_extension": ".py",
   "mimetype": "text/x-python",
   "name": "python",
   "nbconvert_exporter": "python",
   "pygments_lexer": "ipython3",
   "version": "3.7.6"
  }
 },
 "nbformat": 4,
 "nbformat_minor": 4
}
