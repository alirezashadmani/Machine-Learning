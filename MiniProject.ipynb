{
 "cells": [
  {
   "cell_type": "code",
   "execution_count": 1,
   "metadata": {},
   "outputs": [],
   "source": [
    "import numpy as np\n",
    "import pandas as pd\n",
    "import matplotlib.pyplot as plt\n",
    "import os\n",
    "from collections import defaultdict\n",
    "from sklearn.preprocessing import StandardScaler\n",
    "from sklearn.linear_model import LogisticRegression\n",
    "from sklearn.model_selection import KFold\n",
    "from sklearn.decomposition import PCA\n",
    "from sklearn.neighbors import KNeighborsClassifier\n",
    "from sklearn.svm import SVC\n",
    "from sklearn.neural_network import MLPClassifier\n",
    "from sklearn.tree import DecisionTreeClassifier\n",
    "from sklearn.ensemble import RandomForestClassifier\n",
    "from sklearn.model_selection import learning_curve\n",
    "from sklearn.metrics import accuracy_score, precision_score, recall_score, f1_score, roc_auc_score, confusion_matrix, plot_confusion_matrix\n",
    "\n",
    "%matplotlib inline"
   ]
  },
  {
   "cell_type": "code",
   "execution_count": 2,
   "metadata": {},
   "outputs": [],
   "source": [
    "mnist_data_train = pd.read_csv(\"C:/Users/shadm/Desktop/MNIST/mnist_train.csv\")\n",
    "mnist_data_test = pd.read_csv(\"C:/Users/shadm/Desktop/MNIST/mnist_test.csv\")"
   ]
  },
  {
   "cell_type": "code",
   "execution_count": 3,
   "metadata": {},
   "outputs": [],
   "source": [
    "Data_train = mnist_data_train.to_numpy()\n",
    "np.random.seed = 0\n",
    "DT = Data_train[np.random.permutation(Data_train.shape[0])]\n",
    "\n",
    "y_train = DT[:, 0]\n",
    "X_train = DT[:, 1:]\n",
    "\n",
    "Data_test = mnist_data_test.to_numpy()\n",
    "\n",
    "X_test = Data_test[:, 1:]\n",
    "y_test = Data_test[:, 0]"
   ]
  },
  {
   "cell_type": "code",
   "execution_count": 11,
   "metadata": {},
   "outputs": [],
   "source": [
    "X_train_std = X_train/255\n",
    "X_test_std = X_test/255\n",
    "\n",
    "X_tr = X_train_std[:4800]\n",
    "X_val = X_train_std[4800:6000]\n",
    "\n",
    "y_tr = y_train[:4800]\n",
    "y_val = y_train[4800:6000]"
   ]
  },
  {
   "cell_type": "markdown",
   "metadata": {},
   "source": [
    "# Logistic Regression"
   ]
  },
  {
   "cell_type": "code",
   "execution_count": null,
   "metadata": {},
   "outputs": [],
   "source": [
    "train_scores_LR = []\n",
    "test_scores_LR = []\n",
    "for c in np.arange(1, 5, 0.1):\n",
    "    clf = LogisticRegression(C=c, penalty='l2', multi_class='ovr', n_jobs=-1, class_weight='balanced', max_iter=5)\n",
    "    clf.fit(X_tr, y_tr)\n",
    "\n",
    "    train_scores_LR.append(clf.score(X_tr, y_tr))\n",
    "    test_scores_LR.append(clf.score(X_test_std, y_test))\n",
    "\n",
    "plt.figure(figsize=(15, 15))  \n",
    "plt.plot(np.arange(0.1, 10, 1), np.array(train_scores_LR), 'bo')\n",
    "plt.plot(np.arange(0.1, 10, 1), np.array(test_scores_LR), 'ro') "
   ]
  },
  {
   "cell_type": "code",
   "execution_count": 5,
   "metadata": {},
   "outputs": [
    {
     "data": {
      "text/plain": [
       "[<matplotlib.lines.Line2D at 0x1d0c67d9048>]"
      ]
     },
     "execution_count": 5,
     "metadata": {},
     "output_type": "execute_result"
    },
    {
     "data": {
      "image/png": "[encoded data removed]",
      "text/plain": [
       "<Figure size 360x360 with 1 Axes>"
      ]
     },
     "metadata": {
      "needs_background": "light"
     },
     "output_type": "display_data"
    }
   ],
   "source": [
    "clf_LR = LogisticRegression(C=0.1, penalty='l2', multi_class='ovr', n_jobs=-1, class_weight='balanced', max_iter=5)\n",
    "clf_LR.fit(X_tr, y_tr)\n",
    "\n",
    "train_size_LR, train_score_lr, test_score_lr = learning_curve(clf_LR, X_tr, y_tr, cv=5)\n",
    "\n",
    "plt.figure(figsize=(5, 5))\n",
    "plt.plot(train_size_LR, train_score_lr.mean(axis=1), 'b-')\n",
    "plt.plot(train_size_LR, test_score_lr.mean(axis=1), 'r-')"
   ]
  },
  {
   "cell_type": "markdown",
   "metadata": {},
   "source": [
    "# Precision"
   ]
  },
  {
   "cell_type": "code",
   "execution_count": 15,
   "metadata": {},
   "outputs": [
    {
     "name": "stdout",
     "output_type": "stream",
     "text": [
      "validation precision: 0.8478879367260455\n"
     ]
    }
   ],
   "source": [
    "h_val = clf_LR.predict(X_val)\n",
    "\n",
    "print('validation precision:', precision_score(y_val, h_val, average='weighted'))"
   ]
  },
  {
   "cell_type": "markdown",
   "metadata": {},
   "source": [
    "# KNN"
   ]
  },
  {
   "cell_type": "code",
   "execution_count": null,
   "metadata": {},
   "outputs": [],
   "source": [
    "train_scores_KNN = []\n",
    "test_scores_KNN = []\n",
    "for k in np.arange(1, 100, 5):\n",
    "    clf = KNeighborsClassifier(n_neighbors=k, n_jobs=-1, weights='uniform')\n",
    "    clf.fit(X_tr, y_tr)\n",
    "    \n",
    "    train_scores_KNN.append(clf.score(X_tr, y_tr))\n",
    "    test_scores_KNN.append(clf.score(X_test_std, y_test))\n",
    "\n",
    "plt.figure(figsize=(15, 15))    \n",
    "plt.plot(np.arange(0.1, 10, 1), np.array(train_scores_KNN), 'bo')\n",
    "plt.plot(np.arange(0.1, 10, 1), np.array(test_scores_KNN), 'ro') "
   ]
  },
  {
   "cell_type": "code",
   "execution_count": 14,
   "metadata": {},
   "outputs": [
    {
     "data": {
      "text/plain": [
       "[<matplotlib.lines.Line2D at 0x1d0c91654c8>]"
      ]
     },
     "execution_count": 14,
     "metadata": {},
     "output_type": "execute_result"
    },
    {
     "data": {
      "image/png": "[encoded data removed]",
      "text/plain": [
       "<Figure size 360x360 with 1 Axes>"
      ]
     },
     "metadata": {
      "needs_background": "light"
     },
     "output_type": "display_data"
    }
   ],
   "source": [
    "clf_KNN = KNeighborsClassifier(n_neighbors=5, n_jobs=-1, weights='uniform')\n",
    "clf_KNN.fit(X_tr, y_tr)\n",
    "\n",
    "train_size_KNN, train_score_knn, test_score_knn = learning_curve(clf_KNN, X_tr, y_tr, cv=5)\n",
    "\n",
    "plt.figure(figsize=(5, 5)) \n",
    "plt.plot(train_size_KNN, train_score_knn.mean(axis=1), 'b.-')\n",
    "plt.plot(train_size_KNN, test_score_knn.mean(axis=1), 'r.-')"
   ]
  },
  {
   "cell_type": "code",
   "execution_count": 16,
   "metadata": {},
   "outputs": [
    {
     "name": "stdout",
     "output_type": "stream",
     "text": [
      "validation precision: 0.9386416851542729\n"
     ]
    }
   ],
   "source": [
    "h_val = clf_KNN.predict(X_val)\n",
    "\n",
    "print('validation precision:', precision_score(y_val, h_val, average='weighted'))"
   ]
  },
  {
   "cell_type": "markdown",
   "metadata": {},
   "source": [
    "# SVM"
   ]
  },
  {
   "cell_type": "code",
   "execution_count": null,
   "metadata": {},
   "outputs": [],
   "source": [
    "train_scores_SVM = []\n",
    "test_scores_SVM = []\n",
    "for c in np.arange(0.1, 10, 1):\n",
    "    clf = SVC(C=c, kernel='rbf', class_weight='balanced')\n",
    "    clf.fit(X_tr, y_tr)\n",
    "    \n",
    "    train_scores_SVM.append(clf.score(X_tr, y_tr))\n",
    "    test_scores_SVM.append(clf.score(X_test_std, y_test))\n",
    "\n",
    "plt.figure(figsize=(15, 15)) \n",
    "plt.plot(np.arange(0.1, 10, 1), np.array(train_scores_SVM), 'bo')\n",
    "plt.plot(np.arange(0.1, 10, 1), np.array(test_scores_SVM), 'ro')"
   ]
  },
  {
   "cell_type": "code",
   "execution_count": 17,
   "metadata": {},
   "outputs": [
    {
     "data": {
      "text/plain": [
       "[<matplotlib.lines.Line2D at 0x1d0c920e688>]"
      ]
     },
     "execution_count": 17,
     "metadata": {},
     "output_type": "execute_result"
    },
    {
     "data": {
      "image/png": "[encoded data removed]",
      "text/plain": [
       "<Figure size 360x360 with 1 Axes>"
      ]
     },
     "metadata": {
      "needs_background": "light"
     },
     "output_type": "display_data"
    }
   ],
   "source": [
    "clf_SVM = SVC(C=1, kernel='rbf', class_weight='balanced')\n",
    "clf_SVM.fit(X_tr, y_tr)\n",
    "\n",
    "train_size_SVM, train_score_svm, test_score_svm = learning_curve(clf_SVM, X_tr, y_tr, cv=5)\n",
    "\n",
    "plt.figure(figsize=(5, 5)) \n",
    "plt.plot(train_size_SVM, train_score_svm.mean(axis=1), 'b.-')\n",
    "plt.plot(train_size_SVM, test_score_svm.mean(axis=1), 'r.-')"
   ]
  },
  {
   "cell_type": "code",
   "execution_count": 18,
   "metadata": {},
   "outputs": [
    {
     "name": "stdout",
     "output_type": "stream",
     "text": [
      "validation precision: 0.9538710155227972\n"
     ]
    }
   ],
   "source": [
    "h_val = clf_SVM.predict(X_val)\n",
    "\n",
    "print('validation precision:', precision_score(y_val, h_val, average='weighted'))"
   ]
  },
  {
   "cell_type": "markdown",
   "metadata": {},
   "source": [
    "# NEURAL NETWORK"
   ]
  },
  {
   "cell_type": "code",
   "execution_count": null,
   "metadata": {},
   "outputs": [],
   "source": [
    "train_acc_NN = []\n",
    "test_acc_NN = []\n",
    "\n",
    "for nn in range(5, 200, 10):\n",
    "    clf = MLPClassifier(hidden_layer_sizes=(nn,), activation='relu', max_iter=300, solver='sgd', learning_rate='adaptive')\n",
    "    clf.fit(X_tr, y_tr)\n",
    "    \n",
    "    train_acc_NN.append(clf.score(X_tr, y_tr))\n",
    "    test_acc_NN.append(clf.score(X_test_std, y_test))\n",
    "    \n",
    "plt.figure(figsize=(15, 15)) \n",
    "plt.plot(train_acc_NN, 'b-')\n",
    "plt.plot(test_acc_NN, 'r-')"
   ]
  },
  {
   "cell_type": "code",
   "execution_count": 19,
   "metadata": {},
   "outputs": [
    {
     "name": "stderr",
     "output_type": "stream",
     "text": [
      "C:\\Users\\shadm\\AppData\\Roaming\\Python\\Python37\\site-packages\\sklearn\\neural_network\\_multilayer_perceptron.py:585: ConvergenceWarning: Stochastic Optimizer: Maximum iterations (300) reached and the optimization hasn't converged yet.\n",
      "  % self.max_iter, ConvergenceWarning)\n",
      "C:\\Users\\shadm\\AppData\\Roaming\\Python\\Python37\\site-packages\\sklearn\\neural_network\\_multilayer_perceptron.py:585: ConvergenceWarning: Stochastic Optimizer: Maximum iterations (300) reached and the optimization hasn't converged yet.\n",
      "  % self.max_iter, ConvergenceWarning)\n",
      "C:\\Users\\shadm\\AppData\\Roaming\\Python\\Python37\\site-packages\\sklearn\\neural_network\\_multilayer_perceptron.py:585: ConvergenceWarning: Stochastic Optimizer: Maximum iterations (300) reached and the optimization hasn't converged yet.\n",
      "  % self.max_iter, ConvergenceWarning)\n",
      "C:\\Users\\shadm\\AppData\\Roaming\\Python\\Python37\\site-packages\\sklearn\\neural_network\\_multilayer_perceptron.py:585: ConvergenceWarning: Stochastic Optimizer: Maximum iterations (300) reached and the optimization hasn't converged yet.\n",
      "  % self.max_iter, ConvergenceWarning)\n",
      "C:\\Users\\shadm\\AppData\\Roaming\\Python\\Python37\\site-packages\\sklearn\\neural_network\\_multilayer_perceptron.py:585: ConvergenceWarning: Stochastic Optimizer: Maximum iterations (300) reached and the optimization hasn't converged yet.\n",
      "  % self.max_iter, ConvergenceWarning)\n",
      "C:\\Users\\shadm\\AppData\\Roaming\\Python\\Python37\\site-packages\\sklearn\\neural_network\\_multilayer_perceptron.py:585: ConvergenceWarning: Stochastic Optimizer: Maximum iterations (300) reached and the optimization hasn't converged yet.\n",
      "  % self.max_iter, ConvergenceWarning)\n",
      "C:\\Users\\shadm\\AppData\\Roaming\\Python\\Python37\\site-packages\\sklearn\\neural_network\\_multilayer_perceptron.py:585: ConvergenceWarning: Stochastic Optimizer: Maximum iterations (300) reached and the optimization hasn't converged yet.\n",
      "  % self.max_iter, ConvergenceWarning)\n",
      "C:\\Users\\shadm\\AppData\\Roaming\\Python\\Python37\\site-packages\\sklearn\\neural_network\\_multilayer_perceptron.py:585: ConvergenceWarning: Stochastic Optimizer: Maximum iterations (300) reached and the optimization hasn't converged yet.\n",
      "  % self.max_iter, ConvergenceWarning)\n",
      "C:\\Users\\shadm\\AppData\\Roaming\\Python\\Python37\\site-packages\\sklearn\\neural_network\\_multilayer_perceptron.py:585: ConvergenceWarning: Stochastic Optimizer: Maximum iterations (300) reached and the optimization hasn't converged yet.\n",
      "  % self.max_iter, ConvergenceWarning)\n",
      "C:\\Users\\shadm\\AppData\\Roaming\\Python\\Python37\\site-packages\\sklearn\\neural_network\\_multilayer_perceptron.py:585: ConvergenceWarning: Stochastic Optimizer: Maximum iterations (300) reached and the optimization hasn't converged yet.\n",
      "  % self.max_iter, ConvergenceWarning)\n",
      "C:\\Users\\shadm\\AppData\\Roaming\\Python\\Python37\\site-packages\\sklearn\\neural_network\\_multilayer_perceptron.py:585: ConvergenceWarning: Stochastic Optimizer: Maximum iterations (300) reached and the optimization hasn't converged yet.\n",
      "  % self.max_iter, ConvergenceWarning)\n",
      "C:\\Users\\shadm\\AppData\\Roaming\\Python\\Python37\\site-packages\\sklearn\\neural_network\\_multilayer_perceptron.py:585: ConvergenceWarning: Stochastic Optimizer: Maximum iterations (300) reached and the optimization hasn't converged yet.\n",
      "  % self.max_iter, ConvergenceWarning)\n",
      "C:\\Users\\shadm\\AppData\\Roaming\\Python\\Python37\\site-packages\\sklearn\\neural_network\\_multilayer_perceptron.py:585: ConvergenceWarning: Stochastic Optimizer: Maximum iterations (300) reached and the optimization hasn't converged yet.\n",
      "  % self.max_iter, ConvergenceWarning)\n",
      "C:\\Users\\shadm\\AppData\\Roaming\\Python\\Python37\\site-packages\\sklearn\\neural_network\\_multilayer_perceptron.py:585: ConvergenceWarning: Stochastic Optimizer: Maximum iterations (300) reached and the optimization hasn't converged yet.\n",
      "  % self.max_iter, ConvergenceWarning)\n",
      "C:\\Users\\shadm\\AppData\\Roaming\\Python\\Python37\\site-packages\\sklearn\\neural_network\\_multilayer_perceptron.py:585: ConvergenceWarning: Stochastic Optimizer: Maximum iterations (300) reached and the optimization hasn't converged yet.\n",
      "  % self.max_iter, ConvergenceWarning)\n",
      "C:\\Users\\shadm\\AppData\\Roaming\\Python\\Python37\\site-packages\\sklearn\\neural_network\\_multilayer_perceptron.py:585: ConvergenceWarning: Stochastic Optimizer: Maximum iterations (300) reached and the optimization hasn't converged yet.\n",
      "  % self.max_iter, ConvergenceWarning)\n",
      "C:\\Users\\shadm\\AppData\\Roaming\\Python\\Python37\\site-packages\\sklearn\\neural_network\\_multilayer_perceptron.py:585: ConvergenceWarning: Stochastic Optimizer: Maximum iterations (300) reached and the optimization hasn't converged yet.\n",
      "  % self.max_iter, ConvergenceWarning)\n",
      "C:\\Users\\shadm\\AppData\\Roaming\\Python\\Python37\\site-packages\\sklearn\\neural_network\\_multilayer_perceptron.py:585: ConvergenceWarning: Stochastic Optimizer: Maximum iterations (300) reached and the optimization hasn't converged yet.\n",
      "  % self.max_iter, ConvergenceWarning)\n",
      "C:\\Users\\shadm\\AppData\\Roaming\\Python\\Python37\\site-packages\\sklearn\\neural_network\\_multilayer_perceptron.py:585: ConvergenceWarning: Stochastic Optimizer: Maximum iterations (300) reached and the optimization hasn't converged yet.\n",
      "  % self.max_iter, ConvergenceWarning)\n",
      "C:\\Users\\shadm\\AppData\\Roaming\\Python\\Python37\\site-packages\\sklearn\\neural_network\\_multilayer_perceptron.py:585: ConvergenceWarning: Stochastic Optimizer: Maximum iterations (300) reached and the optimization hasn't converged yet.\n",
      "  % self.max_iter, ConvergenceWarning)\n",
      "C:\\Users\\shadm\\AppData\\Roaming\\Python\\Python37\\site-packages\\sklearn\\neural_network\\_multilayer_perceptron.py:585: ConvergenceWarning: Stochastic Optimizer: Maximum iterations (300) reached and the optimization hasn't converged yet.\n",
      "  % self.max_iter, ConvergenceWarning)\n",
      "C:\\Users\\shadm\\AppData\\Roaming\\Python\\Python37\\site-packages\\sklearn\\neural_network\\_multilayer_perceptron.py:585: ConvergenceWarning: Stochastic Optimizer: Maximum iterations (300) reached and the optimization hasn't converged yet.\n",
      "  % self.max_iter, ConvergenceWarning)\n",
      "C:\\Users\\shadm\\AppData\\Roaming\\Python\\Python37\\site-packages\\sklearn\\neural_network\\_multilayer_perceptron.py:585: ConvergenceWarning: Stochastic Optimizer: Maximum iterations (300) reached and the optimization hasn't converged yet.\n",
      "  % self.max_iter, ConvergenceWarning)\n",
      "C:\\Users\\shadm\\AppData\\Roaming\\Python\\Python37\\site-packages\\sklearn\\neural_network\\_multilayer_perceptron.py:585: ConvergenceWarning: Stochastic Optimizer: Maximum iterations (300) reached and the optimization hasn't converged yet.\n",
      "  % self.max_iter, ConvergenceWarning)\n",
      "C:\\Users\\shadm\\AppData\\Roaming\\Python\\Python37\\site-packages\\sklearn\\neural_network\\_multilayer_perceptron.py:585: ConvergenceWarning: Stochastic Optimizer: Maximum iterations (300) reached and the optimization hasn't converged yet.\n",
      "  % self.max_iter, ConvergenceWarning)\n",
      "C:\\Users\\shadm\\AppData\\Roaming\\Python\\Python37\\site-packages\\sklearn\\neural_network\\_multilayer_perceptron.py:585: ConvergenceWarning: Stochastic Optimizer: Maximum iterations (300) reached and the optimization hasn't converged yet.\n",
      "  % self.max_iter, ConvergenceWarning)\n"
     ]
    },
    {
     "data": {
      "text/plain": [
       "[<matplotlib.lines.Line2D at 0x1d0f9530348>]"
      ]
     },
     "execution_count": 19,
     "metadata": {},
     "output_type": "execute_result"
    },
    {
     "data": {
      "image/png": "[encoded data removed]",
      "text/plain": [
       "<Figure size 360x360 with 1 Axes>"
      ]
     },
     "metadata": {
      "needs_background": "light"
     },
     "output_type": "display_data"
    }
   ],
   "source": [
    "clf_NN = MLPClassifier(hidden_layer_sizes=(35,), activation='relu', max_iter=300, solver='sgd', learning_rate='adaptive')\n",
    "clf_NN.fit(X_tr, y_tr)\n",
    "\n",
    "train_size_NN, train_score_nn, test_score_nn = learning_curve(clf_NN, X_tr, y_tr, cv=5)\n",
    "\n",
    "plt.figure(figsize=(5, 5))\n",
    "plt.plot(train_size_NN, train_score_nn.mean(axis=1), 'b.-')\n",
    "plt.plot(train_size_NN, test_score_nn.mean(axis=1), 'r.-')"
   ]
  },
  {
   "cell_type": "code",
   "execution_count": 20,
   "metadata": {},
   "outputs": [
    {
     "name": "stdout",
     "output_type": "stream",
     "text": [
      "validation precision: 0.9144476064726892\n"
     ]
    }
   ],
   "source": [
    "h_val = clf_NN.predict(X_val)\n",
    "\n",
    "print('validation precision:', precision_score(y_val, h_val, average='weighted'))"
   ]
  },
  {
   "cell_type": "markdown",
   "metadata": {},
   "source": [
    "# DECISION TREE"
   ]
  },
  {
   "cell_type": "code",
   "execution_count": null,
   "metadata": {},
   "outputs": [],
   "source": [
    "train_scores_DT = []\n",
    "test_scores_DT = []\n",
    "\n",
    "\n",
    "for dt in range(1, 14):\n",
    "    clf = DecisionTreeClassifier(max_depth=dt, class_weight='balanced')\n",
    "    clf.fit(X_tr, y_tr)\n",
    "    \n",
    "    train_scores_DT.append(clf.score(X_tr, y_tr))\n",
    "    test_scores_DT.append(clf.score(X_test_std, y_test))\n",
    "    \n",
    "plt.plot(np.arange(1, 14, 1) ,np.array(train_scores_DT), 'b-')\n",
    "plt.plot(np.arange(1, 14, 1), np.array(test_scores_DT), 'r-')"
   ]
  },
  {
   "cell_type": "code",
   "execution_count": 21,
   "metadata": {},
   "outputs": [
    {
     "data": {
      "text/plain": [
       "[<matplotlib.lines.Line2D at 0x1d0f95d6188>]"
      ]
     },
     "execution_count": 21,
     "metadata": {},
     "output_type": "execute_result"
    },
    {
     "data": {
      "image/png": "[encoded data removed]",
      "text/plain": [
       "<Figure size 360x360 with 1 Axes>"
      ]
     },
     "metadata": {
      "needs_background": "light"
     },
     "output_type": "display_data"
    }
   ],
   "source": [
    "clf_DT = DecisionTreeClassifier(max_depth=7, class_weight='balanced')\n",
    "clf_DT.fit(X_tr, y_tr)\n",
    "\n",
    "train_size_DT, train_score_dt, test_score_dt = learning_curve(clf, X_tr, y_tr, cv=5 )\n",
    "\n",
    "plt.figure(figsize=(5, 5))\n",
    "plt.plot(train_size_DT, train_score_dt.mean(axis=1), 'b.-')\n",
    "plt.plot(train_size_DT, test_score_dt.mean(axis=1), 'r.-')"
   ]
  },
  {
   "cell_type": "code",
   "execution_count": 22,
   "metadata": {},
   "outputs": [
    {
     "name": "stdout",
     "output_type": "stream",
     "text": [
      "validation precision: 0.7624810173549547\n"
     ]
    }
   ],
   "source": [
    "h_val = clf_DT.predict(X_val)\n",
    "\n",
    "print('validation precision:', precision_score(y_val, h_val, average='weighted'))"
   ]
  },
  {
   "cell_type": "markdown",
   "metadata": {},
   "source": [
    "# RandomForest"
   ]
  },
  {
   "cell_type": "code",
   "execution_count": null,
   "metadata": {},
   "outputs": [],
   "source": [
    "train_acc =[]\n",
    "test_acc = []\n",
    "\n",
    "for n in range(1, 200, 10):\n",
    "    clf = RandomForestClassifier(n_estimators=n, max_depth=7, n_jobs=-1, class_weight='balanced', criterion='entropy')\n",
    "    clf.fit(X_tr, y_tr)\n",
    "    \n",
    "    train_acc.append(clf.score(X_tr, y_tr))\n",
    "    test_acc.append(clf.score(X_test_std, y_test))\n",
    "    \n",
    "plt.plot(train_acc, 'b-')\n",
    "plt.plot(test_acc, 'r-')"
   ]
  },
  {
   "cell_type": "code",
   "execution_count": 23,
   "metadata": {},
   "outputs": [
    {
     "data": {
      "text/plain": [
       "[<matplotlib.lines.Line2D at 0x1d0f96cd808>]"
      ]
     },
     "execution_count": 23,
     "metadata": {},
     "output_type": "execute_result"
    },
    {
     "data": {
      "image/png": "[encoded data removed]",
      "text/plain": [
       "<Figure size 360x360 with 1 Axes>"
      ]
     },
     "metadata": {
      "needs_background": "light"
     },
     "output_type": "display_data"
    }
   ],
   "source": [
    "clf_RF = RandomForestClassifier(n_estimators=10, max_depth=7, n_jobs=-1, class_weight='balanced', criterion='entropy')\n",
    "clf_RF.fit(X_tr, y_tr)\n",
    "\n",
    "train_size_RF, train_score_rf, test_score_rf = learning_curve(clf_RF, X_tr, y_tr, cv=5 )\n",
    "\n",
    "plt.figure(figsize=(5, 5))\n",
    "plt.plot(train_size_RF, train_score_rf.mean(axis=1), 'b.-')\n",
    "plt.plot(train_size_RF, test_score_rf.mean(axis=1), 'r.-')"
   ]
  },
  {
   "cell_type": "code",
   "execution_count": 24,
   "metadata": {},
   "outputs": [
    {
     "name": "stdout",
     "output_type": "stream",
     "text": [
      "validation precision: 0.869088035761187\n"
     ]
    }
   ],
   "source": [
    "h_val = clf_RF.predict(X_val)\n",
    "\n",
    "print('validation precision:', precision_score(y_val, h_val, average='weighted'))"
   ]
  },
  {
   "cell_type": "code",
   "execution_count": 27,
   "metadata": {},
   "outputs": [
    {
     "name": "stdout",
     "output_type": "stream",
     "text": [
      "test score: 0.952\n",
      "train score: 0.9860416666666667\n",
      "***************\n",
      "test precision: 0.9520673393814258\n",
      "train precision: 0.9860847259331259\n",
      "***************\n",
      "test recall: 0.952\n",
      "train recall: 0.9860416666666667\n",
      "***************\n",
      "test f1-score: 0.9519449617610635\n",
      "train f1-score: 0.986042660007513\n"
     ]
    },
    {
     "data": {
      "image/png": "[encoded data removed]",
      "text/plain": [
       "<Figure size 432x288 with 2 Axes>"
      ]
     },
     "metadata": {
      "needs_background": "light"
     },
     "output_type": "display_data"
    }
   ],
   "source": [
    "# Best score: SVM\n",
    "h_tr = clf_SVM.predict(X_tr)\n",
    "h_test = clf_SVM.predict(X_test_std)\n",
    "\n",
    "# Precision, Recall, Accuracy, and f1_score\n",
    "print('test score:', clf_SVM.score(X_test_std, y_test))\n",
    "print('train score:', clf_SVM.score(X_tr, y_tr))\n",
    "print('***************')\n",
    "print('test precision:', precision_score(y_test, h_test, average='weighted'))\n",
    "print('train precision:', precision_score(y_tr, h_tr, average='weighted'))\n",
    "print('***************')\n",
    "print('test recall:', recall_score(y_test, h_test, average='weighted'))\n",
    "print('train recall:', recall_score(y_tr, h_tr, average='weighted'))\n",
    "print('***************')\n",
    "print('test f1-score:', f1_score(y_test, h_test, average='weighted'))\n",
    "print('train f1-score:', f1_score(y_tr, h_tr, average='weighted'))\n",
    "\n",
    "#Confiusion Matrix\n",
    "\n",
    "\n",
    "class_names = ['0', '1', '2', '3', '4', '5', '6', '7', '8', '9']\n",
    "disp = plot_confusion_matrix(clf_SVM, X_test_std, y_test, display_labels = class_names)"
   ]
  },
  {
   "cell_type": "code",
   "execution_count": null,
   "metadata": {},
   "outputs": [],
   "source": []
  }
 ],
 "metadata": {
  "kernelspec": {
   "display_name": "Python 3",
   "language": "python",
   "name": "python3"
  },
  "language_info": {
   "codemirror_mode": {
    "name": "ipython",
    "version": 3
   },
   "file_extension": ".py",
   "mimetype": "text/x-python",
   "name": "python",
   "nbconvert_exporter": "python",
   "pygments_lexer": "ipython3",
   "version": "3.7.6"
  }
 },
 "nbformat": 4,
 "nbformat_minor": 4
}
